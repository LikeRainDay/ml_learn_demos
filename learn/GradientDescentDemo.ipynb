{
 "cells": [
  {
   "cell_type": "code",
   "execution_count": 6,
   "outputs": [
    {
     "data": {
      "text/plain": "<Figure size 432x288 with 1 Axes>",
      "image/png": "[encoded data removed]"
     },
     "metadata": {
      "needs_background": "light"
     },
     "output_type": "display_data"
    }
   ],
   "source": [
    "import matplotlib.pyplot as plt\n",
    "import random as random\n",
    "import numpy as np\n",
    "\n",
    "# ydata = b + w* xdata\n",
    "x_data=[ 338., 333., 328., 207., 226., 25., 179., 60., 208., 606.]\n",
    "y_data=[ 640., 633., 619., 393., 428., 27., 193., 66., 226., 1591.]\n",
    "x = np.arange(-200,-100,1) #bias\n",
    "y = np.arange(-5,5,0.1) #weight\n",
    "Z =  np.zeros((len(x), len(y)))\n",
    "X, Y = np.meshgrid(x, y)\n",
    "for i in range(len(x)):\n",
    "    for j in range(len(y)):\n",
    "        b = x[i]\n",
    "        w = y[j]\n",
    "        Z[j][i] = 0\n",
    "        for n in range(len(x_data)):\n",
    "            Z[j][i] = Z[j][i] +  (y_data[n] - b - w*x_data[n])**2\n",
    "            Z[j][i] = Z[j][i]/len(x_data)\n",
    "\n",
    "\n",
    "b=-120 #initial b\n",
    "w = -4 #initial w\n",
    "lr = 1 #learning rate\n",
    "interation = 100000\n",
    "\n",
    "b_history = [b]\n",
    "w_history = [w]\n",
    "\n",
    "b_lr = 0\n",
    "w_lr = 0\n",
    "\n",
    "#interation\n",
    "for i in range(interation):\n",
    "\n",
    "     b_grad = 0.0\n",
    "     w_grad = 0.0\n",
    "     for n in range(len(x_data)):\n",
    "          b_grad = b_grad - 2.0*(y_data[n] - b - w*x_data[n])*1.0\n",
    "          w_grad = w_grad - 2.0*(y_data[n] - b - w*x_data[n])*x_data[n]\n",
    "\n",
    "     w_lr = w_lr + w_grad ** 2\n",
    "     b_lr = b_lr + b_grad ** 2\n",
    "\n",
    "     #update parameters.\n",
    "     b = b - lr/np.sqrt(b_lr) * b_grad\n",
    "     w = w - lr/np.sqrt(w_lr) * w_grad\n",
    "\n",
    "     # Store parameters for plotting\n",
    "     b_history.append(b)\n",
    "     w_history.append(w)\n",
    "\n",
    "\n",
    "#plot the figure\n",
    "plt.contourf(x, y, Z, 50, alpha=0.5, cmap=plt.get_cmap('jet'))\n",
    "plt.plot([-188.4], [2.67], 'x', ms=12, markeredgewidth=3, color='orange')\n",
    "plt.plot(b_history, w_history, 'o-', ms=3, lw=1.5, color='black')\n",
    "plt.xlim(-200, -100)\n",
    "plt.ylim(-5,5)\n",
    "plt.xlabel(r'$b$', fontsize=16)\n",
    "plt.ylabel(r'$b$', fontsize=16)\n",
    "plt.show()\n",
    "\n"
   ],
   "metadata": {
    "collapsed": false,
    "pycharm": {
     "name": "#%%\n"
    }
   }
  },
  {
   "cell_type": "code",
   "execution_count": 6,
   "outputs": [],
   "source": [
    "\n"
   ],
   "metadata": {
    "collapsed": false,
    "pycharm": {
     "name": "#%%\n"
    }
   }
  }
 ],
 "metadata": {
  "kernelspec": {
   "display_name": "Python 3",
   "language": "python",
   "name": "python3"
  },
  "language_info": {
   "codemirror_mode": {
    "name": "ipython",
    "version": 2
   },
   "file_extension": ".py",
   "mimetype": "text/x-python",
   "name": "python",
   "nbconvert_exporter": "python",
   "pygments_lexer": "ipython2",
   "version": "2.7.6"
  }
 },
 "nbformat": 4,
 "nbformat_minor": 0
}